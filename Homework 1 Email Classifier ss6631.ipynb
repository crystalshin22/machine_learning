{
 "cells": [
  {
   "cell_type": "markdown",
   "metadata": {},
   "source": [
    "# Email Classifier"
   ]
  },
  {
   "cell_type": "markdown",
   "metadata": {},
   "source": [
    "## Bag of Words Model"
   ]
  },
  {
   "cell_type": "code",
   "execution_count": 22,
   "metadata": {},
   "outputs": [],
   "source": [
    "import os\n",
    "import nltk\n",
    "from nltk.stem import PorterStemmer\n",
    "import re\n",
    "import string\n",
    "import codecs"
   ]
  },
  {
   "cell_type": "code",
   "execution_count": 3,
   "metadata": {},
   "outputs": [],
   "source": [
    "# Unzip the raw data zip file\n",
    "# Uncomment the following line and run once if the zip file has not been unzipped\n",
    "\n",
    "# ! tar -xf email_data.tar.gz"
   ]
  },
  {
   "cell_type": "code",
   "execution_count": 2,
   "metadata": {},
   "outputs": [],
   "source": [
    "# Update the filepath depending on where the email data directory is located. For now, I placed this notebook and the\n",
    "# unzipped data file in the current working directory.\n",
    "\n",
    "path_to_all_emails = '/Users/crystalshin/Documents/GitHub/COMS4771/enron1'\n",
    "path_to_ham = path_to_all_emails + '/ham'\n",
    "path_to_spam = path_to_all_emails + '/spam'"
   ]
  },
  {
   "cell_type": "code",
   "execution_count": 16,
   "metadata": {},
   "outputs": [
    {
     "data": {
      "text/plain": [
       "{'sam': 1, 'gavin': 2}"
      ]
     },
     "execution_count": 16,
     "metadata": {},
     "output_type": "execute_result"
    }
   ],
   "source": [
    "sample_dic = {'sam': 1, 'gavin': 2}\n",
    "if 'gavin' not in sample_dic:\n",
    "    sample_dic['gavin'] = 3\n",
    "sample_dic"
   ]
  },
  {
   "cell_type": "code",
   "execution_count": 29,
   "metadata": {
    "scrolled": true
   },
   "outputs": [
    {
     "name": "stdout",
     "output_type": "stream",
     "text": [
      "42826\n",
      "42827\n"
     ]
    }
   ],
   "source": [
    "# Plan: Create an empty dictionary for storing the word dictionary. \n",
    "# Create a list of strings, and as we go through individual filenames, read the file, remove punctuations,\n",
    "# tokenize, and stem the words. \n",
    "# Once only the words are extracted, compare each word to the entries in the dictionary and add a new entry if unique.\n",
    "\n",
    "# Empty dictionary to store all unique words\n",
    "word_bag = {}\n",
    "bag_idx = 1\n",
    "\n",
    "# Initialize word stemmer\n",
    "ps = PorterStemmer()\n",
    "\n",
    "# list of filenames in ham & spam\n",
    "filenames_ham = sorted(os.listdir(path_to_ham))\n",
    "filenames_spam = sorted(os.listdir(path_to_spam))\n",
    "all_filenames = filenames_ham + filenames_spam\n",
    "\n",
    "for file in filenames_ham:\n",
    "    text = open(path_to_ham+\"/\"+file, \"r\", encoding='latin1')\n",
    "    data = text.read()\n",
    "    text.close()\n",
    "    data = re.sub('[,.;:@#?!&$]+', '', data)\n",
    "    tokenized = nltk.word_tokenize(data)\n",
    "    stemmed = []\n",
    "    for word in tokenized:\n",
    "        stemmed.append(ps.stem(word))\n",
    "    # add dictionary entries\n",
    "    for stem in stemmed:\n",
    "        if stem not in word_bag:\n",
    "            word_bag[stem] = bag_idx\n",
    "            bag_idx += 1\n",
    "\n",
    "for file in filenames_spam:\n",
    "    text = open(path_to_spam+\"/\"+file, \"r\", encoding='latin1')\n",
    "    data = text.read()\n",
    "    text.close()\n",
    "    data = re.sub('[,.;:@#?!&$]+', '', data)\n",
    "    tokenized = nltk.word_tokenize(data)\n",
    "    stemmed = []\n",
    "    for word in tokenized:\n",
    "        stemmed.append(ps.stem(word))\n",
    "    # add dictionary entries\n",
    "    for stem in stemmed:\n",
    "        if stem not in word_bag:\n",
    "            word_bag[stem] = bag_idx\n",
    "            bag_idx += 1\n",
    "            \n",
    "print(len(word_bag))\n",
    "print(bag_idx)"
   ]
  },
  {
   "cell_type": "markdown",
   "metadata": {},
   "source": [
    "## Naive-Bayes"
   ]
  },
  {
   "cell_type": "code",
   "execution_count": null,
   "metadata": {},
   "outputs": [],
   "source": []
  }
 ],
 "metadata": {
  "kernelspec": {
   "display_name": "Python 3",
   "language": "python",
   "name": "python3"
  },
  "language_info": {
   "codemirror_mode": {
    "name": "ipython",
    "version": 3
   },
   "file_extension": ".py",
   "mimetype": "text/x-python",
   "name": "python",
   "nbconvert_exporter": "python",
   "pygments_lexer": "ipython3",
   "version": "3.8.5"
  },
  "toc": {
   "base_numbering": 1,
   "nav_menu": {},
   "number_sections": false,
   "sideBar": true,
   "skip_h1_title": true,
   "title_cell": "Table of Contents",
   "title_sidebar": "Contents",
   "toc_cell": false,
   "toc_position": {},
   "toc_section_display": true,
   "toc_window_display": false
  }
 },
 "nbformat": 4,
 "nbformat_minor": 4
}
