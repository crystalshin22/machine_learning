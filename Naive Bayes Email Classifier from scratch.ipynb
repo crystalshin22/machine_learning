{
 "cells": [
  {
   "cell_type": "markdown",
   "metadata": {},
   "source": [
    "# Email Classifier"
   ]
  },
  {
   "cell_type": "markdown",
   "metadata": {},
   "source": [
    "## Bag of Words Model"
   ]
  },
  {
   "cell_type": "code",
   "execution_count": 638,
   "metadata": {},
   "outputs": [],
   "source": [
    "import os\n",
    "import nltk\n",
    "from nltk.stem import PorterStemmer\n",
    "import re\n",
    "import string\n",
    "import codecs\n",
    "import numpy as np\n",
    "import sys\n",
    "from matplotlib import pyplot as plt"
   ]
  },
  {
   "cell_type": "code",
   "execution_count": 583,
   "metadata": {},
   "outputs": [],
   "source": [
    "# Unzip the raw data zip file\n",
    "# Uncomment the following line and run once if the zip file has not been unzipped\n",
    "\n",
    "# ! tar -xf email_data.tar.gz"
   ]
  },
  {
   "cell_type": "code",
   "execution_count": 584,
   "metadata": {},
   "outputs": [],
   "source": [
    "# Update the filepath depending on where the email data directory is located. For now, I placed this notebook and the\n",
    "# unzipped data file in the current working directory.\n",
    "\n",
    "path_to_all_emails = '/Users/crystalshin/Documents/GitHub/COMS4771/enron1'\n",
    "path_to_ham = path_to_all_emails + '/ham'\n",
    "path_to_spam = path_to_all_emails + '/spam'"
   ]
  },
  {
   "cell_type": "code",
   "execution_count": 585,
   "metadata": {
    "scrolled": true
   },
   "outputs": [
    {
     "name": "stdout",
     "output_type": "stream",
     "text": [
      "Bag of words: 38061\n"
     ]
    }
   ],
   "source": [
    "# Empty dictionary to store all unique words\n",
    "word_bag = {}\n",
    "bag_idx = 1\n",
    "\n",
    "# Initialize word stemmer\n",
    "ps = PorterStemmer()\n",
    "\n",
    "# list of filenames in ham & spam\n",
    "filenames_ham = sorted(os.listdir(path_to_ham))\n",
    "filenames_spam = sorted(os.listdir(path_to_spam))\n",
    "all_filenames = filenames_ham + filenames_spam\n",
    "\n",
    "for file in filenames_ham:\n",
    "    text = open(path_to_ham+\"/\"+file, \"r\", encoding='latin1')\n",
    "    data = text.read()\n",
    "    text.close()\n",
    "    data = re.sub('[,.;:@#?!&$-1234567890%/\\'\\\"\\(\\)\\`|+]+', '', data)\n",
    "    data = re.sub('subject','',data)\n",
    "    data = re.sub('cc','',data)\n",
    "    tokenized = nltk.word_tokenize(data)\n",
    "    stemmed = []\n",
    "    for word in tokenized:\n",
    "        stemmed.append(ps.stem(word))\n",
    "    # add dictionary entries\n",
    "    for stem in stemmed:\n",
    "        if stem not in word_bag:\n",
    "            word_bag[stem] = bag_idx\n",
    "            bag_idx += 1\n",
    "\n",
    "for file in filenames_spam:\n",
    "    text = open(path_to_spam+\"/\"+file, \"r\", encoding='latin1')\n",
    "    data = text.read()\n",
    "    text.close()\n",
    "    data = re.sub('[,.;:@#?!&$-1234567890%/\\'\\\"\\(\\)\\`|+]+', '', data)\n",
    "    data = re.sub('subject','',data)\n",
    "    data = re.sub('cc','',data)\n",
    "    tokenized = nltk.word_tokenize(data)\n",
    "    stemmed = []\n",
    "    for word in tokenized:\n",
    "        stemmed.append(ps.stem(word))\n",
    "    # add dictionary entries\n",
    "    for stem in stemmed:\n",
    "        if stem not in word_bag:\n",
    "            word_bag[stem] = bag_idx\n",
    "            bag_idx += 1\n",
    "            \n",
    "print(\"Bag of words:\", len(word_bag))"
   ]
  },
  {
   "cell_type": "code",
   "execution_count": 587,
   "metadata": {},
   "outputs": [],
   "source": [
    "import operator as op\n",
    "\n",
    "vector = []\n",
    "\n",
    "for file in filenames_ham:\n",
    "    text = open(path_to_ham+\"/\"+file, \"r\", encoding='latin1')\n",
    "    data = text.read()\n",
    "    text.close()\n",
    "    data = re.sub('[,.;:@#?!&$-1234567890%/\\'\\\"\\(\\)\\`|+]+', '', data)\n",
    "    data = re.sub('subject','',data)\n",
    "    data = re.sub('cc','',data)\n",
    "    tokenized = nltk.word_tokenize(data)\n",
    "    stemmed = []\n",
    "    for word in tokenized:\n",
    "        stemmed.append(ps.stem(word))\n",
    "    # Count each word\n",
    "    count = []\n",
    "    for key in word_bag:\n",
    "        count.append(op.countOf(stemmed, key))\n",
    "    vector.append((count, 0))\n",
    "    \n",
    "for file in filenames_spam:\n",
    "    text = open(path_to_spam+\"/\"+file, \"r\", encoding='latin1')\n",
    "    data = text.read()\n",
    "    text.close()\n",
    "    data = re.sub('[,.;:@#?!&$-1234567890%/\\'\\\"\\(\\)\\`|+]+', '', data)\n",
    "    data = re.sub('subject','',data)\n",
    "    data = re.sub('cc','',data)\n",
    "    tokenized = nltk.word_tokenize(data)\n",
    "    stemmed = []\n",
    "    for word in tokenized:\n",
    "        stemmed.append(ps.stem(word))\n",
    "    # Count each word\n",
    "    count = []\n",
    "    for key in word_bag:\n",
    "        count.append(op.countOf(stemmed, key))\n",
    "    vector.append((count, 1))\n",
    "    "
   ]
  },
  {
   "cell_type": "markdown",
   "metadata": {},
   "source": [
    "## Train Test Split"
   ]
  },
  {
   "cell_type": "code",
   "execution_count": 588,
   "metadata": {},
   "outputs": [],
   "source": [
    "# split helper function\n",
    "from numpy import random\n",
    "\n",
    "def train_test_split(word_vector, train_percent):\n",
    "    vector_length = len(word_vector)\n",
    "    split_index = round(vector_length * train_percent / 100)\n",
    "    random.shuffle(word_vector)\n",
    "    train = word_vector[:split_index]\n",
    "    test = word_vector[split_index:]\n",
    "    x_train = []\n",
    "    y_train = []\n",
    "    x_test = []\n",
    "    y_test = []\n",
    "    for tupl in train:\n",
    "        x_train.append(tupl[0])\n",
    "        y_train.append(tupl[1])\n",
    "    for tupl in test:\n",
    "        x_test.append(tupl[0])\n",
    "        y_test.append(tupl[1])\n",
    "    return np.array(x_train), np.array(y_train), np.array(x_test), np.array(y_test)\n"
   ]
  },
  {
   "cell_type": "code",
   "execution_count": 848,
   "metadata": {},
   "outputs": [],
   "source": [
    "# split data\n",
    "x_train, y_train, x_test, y_test = train_test_split(vector, 70)"
   ]
  },
  {
   "cell_type": "markdown",
   "metadata": {},
   "source": [
    "## Naive-Bayes"
   ]
  },
  {
   "cell_type": "code",
   "execution_count": 800,
   "metadata": {
    "scrolled": true
   },
   "outputs": [],
   "source": [
    "def fit_naive_bayes(x_train, y_train):\n",
    "    # Calculate the class priors: \n",
    "    ham_prior = sum(y==0 for y in y_train)/len(y_train)\n",
    "    spam_prior = sum(y==1 for y in y_train)/len(y_train)\n",
    "\n",
    "    # Separate hams and spams:\n",
    "    ham_occurances = []\n",
    "    spam_occurances = []\n",
    "    for idx, y in enumerate(y_train):\n",
    "        if y == 0:\n",
    "            ham_occurances.append(x_train[idx])\n",
    "        else:\n",
    "            spam_occurances.append(x_train[idx])\n",
    "    ham_occurances = np.array(ham_occurances)\n",
    "    spam_occurances = np.array(spam_occurances)\n",
    "    \n",
    "    # Sum up the wordcounts to find p x given y\n",
    "    ham_wordsum = ham_occurances.sum(axis=0)\n",
    "    \n",
    "    # Calculate the conditionals by dividing the total number of each word by the total number of words in ham or spam\n",
    "    ham_conditional = ham_wordsum / ham_occurances.sum()\n",
    "\n",
    "    spam_wordsum = spam_occurances.sum(axis=0)\n",
    "    spam_conditional = spam_wordsum / spam_occurances.sum()\n",
    "    \n",
    "    return ham_prior, spam_prior, ham_conditional, spam_conditional"
   ]
  },
  {
   "cell_type": "code",
   "execution_count": 801,
   "metadata": {},
   "outputs": [],
   "source": [
    "def predict_naive_bayes(ham_prior, spam_prior, ham_conditional, spam_conditional, x_test, y_test):\n",
    "    # Calculate the posteriors:\n",
    "    ham_posterior = []\n",
    "    spam_posterior = []\n",
    "\n",
    "    for row in x_test:\n",
    "        ham_posterior.append(np.prod(np.power(ham_conditional, row))*ham_prior)\n",
    "        spam_posterior.append(np.prod(np.power(spam_conditional, row))*spam_prior)\n",
    "\n",
    "    y_hat = []\n",
    "    for i in range(len(y_test)):\n",
    "        if ham_posterior[i] >= spam_posterior[i]:\n",
    "            y_hat.append(0)\n",
    "        else:\n",
    "            y_hat.append(1)\n",
    "    accuracy = np.sum(y_hat==y_test)/len(y_test)\n",
    "    \n",
    "    return accuracy"
   ]
  },
  {
   "cell_type": "code",
   "execution_count": 796,
   "metadata": {
    "scrolled": false
   },
   "outputs": [],
   "source": [
    "ham_prior, spam_prior, ham_conditional, spam_conditional = fit_naive_bayes(x_train, y_train)"
   ]
  },
  {
   "cell_type": "code",
   "execution_count": 797,
   "metadata": {
    "scrolled": false
   },
   "outputs": [
    {
     "name": "stdout",
     "output_type": "stream",
     "text": [
      "[0, 0, 0, 0, 0, 0, 0, 0, 0, 0, 0, 0, 0, 0, 0, 0, 0, 0, 0, 0, 0, 0, 0, 0, 0, 0, 0, 0, 0, 0, 0, 0, 0, 0, 0, 0, 0, 0, 0, 0, 0, 0, 0, 1, 0, 0, 0, 0, 0, 0, 0, 0, 0, 0, 0, 0, 0, 0, 0, 0]\n",
      "[0 0 1 0 0 0 0 0 0 1 0 0 1 0 0 1 0 1 1 0 1 0 0 0 0 1 0 1 0 1 0 0 0 0 0 0 1\n",
      " 0 0 1 0 0 0 1 0 0 0 0 1 0 0 1 1 0 1 0 0 0 0 0]\n"
     ]
    },
    {
     "data": {
      "text/plain": [
       "0.720515574650913"
      ]
     },
     "execution_count": 797,
     "metadata": {},
     "output_type": "execute_result"
    }
   ],
   "source": [
    "accuracy = predict_naive_bayes(ham_prior, spam_prior, ham_conditional, spam_conditional, x_test, y_test)\n",
    "accuracy"
   ]
  },
  {
   "cell_type": "code",
   "execution_count": null,
   "metadata": {},
   "outputs": [],
   "source": [
    "nb_accuracy = []\n",
    "for split in range(10,100,10):\n",
    "    cum_acc = 0\n",
    "    for i in range(5):\n",
    "        x_train, y_train, x_test, y_test = train_test_split(vector, split)\n",
    "        ham_prior, spam_prior, ham_conditional, spam_conditional = fit_naive_bayes(x_train, y_train)\n",
    "        cum_acc += predict_naive_bayes(ham_prior, spam_prior, ham_conditional, spam_conditional, x_test, y_test)\n",
    "    nb_accuracy.append(cum_acc/5)"
   ]
  },
  {
   "cell_type": "code",
   "execution_count": 814,
   "metadata": {},
   "outputs": [
    {
     "data": {
      "image/png": "[encoded data removed]",
      "text/plain": [
       "<Figure size 432x288 with 1 Axes>"
      ]
     },
     "metadata": {
      "needs_background": "light"
     },
     "output_type": "display_data"
    },
    {
     "name": "stdout",
     "output_type": "stream",
     "text": [
      "[0.725499462943072, 0.7304978250362494, 0.7330386740331492, 0.7363196906219788, 0.7425367362722352, 0.748960850652489, 0.7462628865979382, 0.7603481624758222, 0.7551257253384913]\n"
     ]
    }
   ],
   "source": [
    "plt.plot(range(10,100,10), nb_accuracy)\n",
    "plt.xlabel('% train split')\n",
    "plt.ylabel('accuracy')\n",
    "plt.title('Accuracy of Naive Bayes Classifier by Split Size')\n",
    "plt.show()\n",
    "print(nb_accuracy)"
   ]
  },
  {
   "cell_type": "markdown",
   "metadata": {},
   "source": [
    "## KNN"
   ]
  },
  {
   "cell_type": "code",
   "execution_count": 816,
   "metadata": {},
   "outputs": [],
   "source": [
    "# Calculating distances helper function:\n",
    "import numpy.linalg as l\n",
    "\n",
    "def calculate_distance(train, test, normtype):\n",
    "    return l.norm(test-train, normtype)"
   ]
  },
  {
   "cell_type": "markdown",
   "metadata": {},
   "source": [
    "### 1-NN"
   ]
  },
  {
   "cell_type": "code",
   "execution_count": 817,
   "metadata": {},
   "outputs": [],
   "source": [
    "def oneNN(x_train, y_train, x_test, y_test, normtype):\n",
    "    y_hat = []\n",
    "    for i in range(len(x_test)): # for each test email\n",
    "        # calculate the distance from a test email to all the training emails and take the minimum\n",
    "        distances = []\n",
    "        for j in range(len(x_train)): # for each training email\n",
    "            distance = calculate_distance(x_train[j], x_test[i], normtype)\n",
    "            distances.append(distance)\n",
    "        distances = np.array(distances)\n",
    "        min_idx = np.argmin(distances)\n",
    "        y_hat.append(y_train[min_idx])\n",
    "        \n",
    "    accuracy = np.sum(y_hat==y_test)/len(y_test)\n",
    "    return accuracy"
   ]
  },
  {
   "cell_type": "code",
   "execution_count": 850,
   "metadata": {},
   "outputs": [
    {
     "name": "stdout",
     "output_type": "stream",
     "text": [
      "0.916881443298969\n"
     ]
    }
   ],
   "source": [
    "accuracy = oneNN(x_train, y_train, x_test, y_test, 2)\n",
    "print(accuracy)"
   ]
  },
  {
   "cell_type": "markdown",
   "metadata": {},
   "source": [
    "### kNN"
   ]
  },
  {
   "cell_type": "code",
   "execution_count": 747,
   "metadata": {},
   "outputs": [],
   "source": [
    "from collections import Counter\n",
    "\n",
    "def kNN(x_train, y_train, x_test, y_test, normtype, k):\n",
    "    y_hat = []\n",
    "    for i in range(len(x_test)): # for each test email\n",
    "        # calculate the distance from a test email to all the training emails and take the minimum\n",
    "        distances = []\n",
    "        for j in range(len(x_train)): # for each training email\n",
    "            distance = calculate_distance(x_train[j], x_test[i], normtype)\n",
    "            distances.append(distance)\n",
    "        distances = np.array(distances)\n",
    "        min_idx = (np.argpartition(distances, k))[:k]\n",
    "        neighbor_labels = []\n",
    "        for idx in min_idx:\n",
    "            neighbor_labels.append(y_train[idx])\n",
    "        counter = Counter(neighbor_labels)\n",
    "        majority_vote = counter.most_common(1)[0][0]\n",
    "        y_hat.append(majority_vote)\n",
    "        \n",
    "    accuracy = np.sum(y_hat==y_test)/len(y_test)\n",
    "    return accuracy"
   ]
  },
  {
   "cell_type": "code",
   "execution_count": null,
   "metadata": {
    "scrolled": false
   },
   "outputs": [],
   "source": [
    "accuracy = kNN(x_train, y_train, x_test, y_test, 2, 3)\n",
    "print(accuracy)"
   ]
  },
  {
   "cell_type": "code",
   "execution_count": 852,
   "metadata": {},
   "outputs": [],
   "source": [
    "# results for graphing all types of knn\n",
    "splits = [10,30,50,]\n",
    "onennlone = [0.7617615467,0.8361878453,0.845320959]\n",
    "onennltwo = [0.8216970999,0.8809392265,0.9025522042]\n",
    "onennlinf = [0.7499462943,0.7839779006,0.8526682135]\n",
    "threennlone = [0.7939849624,0.829558011,0.788863109]\n",
    "threennltwo = [0.838453276,0.8754143646,0.8832173241]\n",
    "threennlinf = [0.7737916219,0.8099447514,0.8360402166]\n",
    "fivennlone = [0.7974221267,0.811878453,0.7556071152]\n",
    "fivennltwo = [0.8240601504,0.8770718232,0.8700696056]\n",
    "fivennlinf = [0.774650913,0.8080110497,0.8321732405]"
   ]
  },
  {
   "cell_type": "code",
   "execution_count": 859,
   "metadata": {},
   "outputs": [
    {
     "data": {
      "image/png": "[encoded data removed]",
      "text/plain": [
       "<Figure size 432x288 with 1 Axes>"
      ]
     },
     "metadata": {
      "needs_background": "light"
     },
     "output_type": "display_data"
    }
   ],
   "source": [
    "# Knn graph\n",
    "plt.plot(splits, onennlone, label = \"1-NN L1\")\n",
    "plt.plot(splits, onennltwo, label = \"1-NN L2\")\n",
    "plt.plot(splits, onennlinf, label = \"1-NN L-inf\")\n",
    "plt.plot(splits, threennlone, label = \"3-NN L1\")\n",
    "plt.plot(splits, threennltwo, label = \"3-NN L2\")\n",
    "plt.plot(splits, threennlinf, label = \"3-NN L-inf\")\n",
    "plt.plot(splits, fivennlone, label = \"5-NN L1\")\n",
    "plt.plot(splits, fivennltwo, label = \"5-NN L2\")\n",
    "plt.plot(splits, fivennlinf, label = \"5-NN L-inf\")\n",
    "plt.xlabel('% train split')\n",
    "plt.ylabel('accuracy')\n",
    "plt.title('Accuracy of K-NN Classifier by Type and Split Size')\n",
    "plt.legend(loc=\"upper left\")\n",
    "plt.show()"
   ]
  },
  {
   "cell_type": "code",
   "execution_count": 854,
   "metadata": {},
   "outputs": [
    {
     "data": {
      "image/png": "[encoded data removed]",
      "text/plain": [
       "<Figure size 432x288 with 1 Axes>"
      ]
     },
     "metadata": {
      "needs_background": "light"
     },
     "output_type": "display_data"
    }
   ],
   "source": [
    "# Compare knn and naive bayes\n",
    "nb_seventy = 0.7462628865979382\n",
    "\n",
    "naive_bayes_knn = {'Naive Bayes':0.7462628865979382, '1-NN L2':0.916881443298969, '3-NN L2':0.8920301182,\n",
    "        '5-NN L2':0.8811003912}\n",
    "classifier = list(naive_bayes_knn.keys())\n",
    "values = list(naive_bayes_knn.values())\n",
    "\n",
    "plt.bar(classifier, values, color ='maroon', width = 0.4)\n",
    "plt.xlabel(\"Type of classifier\")\n",
    "plt.ylabel(\"Accuracy\")\n",
    "plt.title(\"Comparison of Naive Bayes and KNN Classifiers\")\n",
    "plt.show()"
   ]
  },
  {
   "cell_type": "code",
   "execution_count": null,
   "metadata": {},
   "outputs": [],
   "source": []
  }
 ],
 "metadata": {
  "kernelspec": {
   "display_name": "Python 3",
   "language": "python",
   "name": "python3"
  },
  "language_info": {
   "codemirror_mode": {
    "name": "ipython",
    "version": 3
   },
   "file_extension": ".py",
   "mimetype": "text/x-python",
   "name": "python",
   "nbconvert_exporter": "python",
   "pygments_lexer": "ipython3",
   "version": "3.8.5"
  },
  "toc": {
   "base_numbering": 1,
   "nav_menu": {},
   "number_sections": false,
   "sideBar": true,
   "skip_h1_title": true,
   "title_cell": "Table of Contents",
   "title_sidebar": "Contents",
   "toc_cell": false,
   "toc_position": {},
   "toc_section_display": true,
   "toc_window_display": false
  }
 },
 "nbformat": 4,
 "nbformat_minor": 4
}
